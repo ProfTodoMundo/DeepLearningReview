{
  "nbformat": 4,
  "nbformat_minor": 0,
  "metadata": {
    "colab": {
      "provenance": [],
      "toc_visible": true,
      "include_colab_link": true
    },
    "kernelspec": {
      "name": "python3",
      "display_name": "Python 3"
    },
    "language_info": {
      "name": "python"
    }
  },
  "cells": [
    {
      "cell_type": "markdown",
      "metadata": {
        "id": "view-in-github",
        "colab_type": "text"
      },
      "source": [
        "<a href=\"https://colab.research.google.com/github/ProfTodoMundo/DeepLearningReview/blob/main/Training_vs_Testing_vs_Validation_Datasets.ipynb\" target=\"_parent\"><img src=\"https://colab.research.google.com/assets/colab-badge.svg\" alt=\"Open In Colab\"/></a>"
      ]
    },
    {
      "cell_type": "markdown",
      "source": [
        "\n",
        "\n",
        "1. Splitting the dataset is to assess how effective will the trained model be in generalizing to new data.\n",
        "2. This split can be achieved by using train_test_split function of scikit-learn.\n",
        "\n"
      ],
      "metadata": {
        "id": "wSxSaCd8fgpo"
      }
    },
    {
      "cell_type": "markdown",
      "source": [
        "# Training Set\n",
        "1. This is the actual dataset from which a model trains .i.e.\n",
        "2. the model sees and learns from this data to predict the outcome or to make the right decisions.\n",
        "3. Generally, this data is more than 60% of the total data available for the project."
      ],
      "metadata": {
        "id": "5y-ilPUZf9nv"
      }
    },
    {
      "cell_type": "code",
      "execution_count": null,
      "metadata": {
        "colab": {
          "base_uri": "https://localhost:8080/"
        },
        "id": "51b7WOZ4fS92",
        "outputId": "d39eb914-ad52-460e-9769-96391c5c2c52"
      },
      "outputs": [
        {
          "output_type": "stream",
          "name": "stdout",
          "text": [
            "Training set x:  [[ 0  1]\n",
            " [14 15]\n",
            " [ 4  5]\n",
            " [ 8  9]\n",
            " [ 6  7]\n",
            " [12 13]]\n",
            "Training set y:  [0, 7, 2, 4, 3, 6]\n"
          ]
        }
      ],
      "source": [
        "# Importing numpy & scikit-learn\n",
        "import numpy as np\n",
        "from sklearn.model_selection import train_test_split\n",
        "\n",
        "# Making a dummy array to\n",
        "# represent x,y for example\n",
        "# Making a array for x ranging\n",
        "# from 0-15 then reshaping it\n",
        "# to form a matrix of shape 8x2\n",
        "x = np.arange(16).reshape((8,2))\n",
        "\n",
        "# y is just a list of 0-7 number\n",
        "# representing target variable\n",
        "y = range(8)\n",
        "\n",
        "# Splitting dataset in 80-20 fashion .i.e.\n",
        "# Testing set is 20% of total data\n",
        "# Training set is 80% of total data\n",
        "x_train, x_test, y_train, y_test = train_test_split(x,y, train_size=0.8, random_state=42)\n",
        "\n",
        "# Training set\n",
        "print(\"Training set x: \",x_train)\n",
        "print(\"Training set y: \",y_train)"
      ]
    },
    {
      "cell_type": "markdown",
      "source": [
        "# Testing Set\n",
        "1. This dataset is independent of the training set but\n",
        "2. It has a somewhat similar type of probability distribution of classes and\n",
        "3. It is used as a benchmark to evaluate the model,\n",
        "4. It is used only after the training of the model is complete."
      ],
      "metadata": {
        "id": "4N7hjfi1gNTB"
      }
    },
    {
      "cell_type": "code",
      "source": [
        "# Importing numpy & scikit-learn\n",
        "import numpy as np\n",
        "from sklearn.model_selection import train_test_split\n",
        "\n",
        "# Making a dummy array to represent x,y for example\n",
        "# Making a array for x ranging from 0-15 then\n",
        "# reshaping it to form a matrix of shape 8x2\n",
        "x = np.arange(16).reshape((8, 2))\n",
        "\n",
        "# y is just a list of 0-7 number representing\n",
        "# target variable\n",
        "y = range(8)\n",
        "\n",
        "# Splitting dataset in 80-20 fashion .i.e.\n",
        "# Training set is 80% of total data\n",
        "# Testing set is 20% of total data\n",
        "x_train, x_test, y_train, y_test = train_test_split(x, y, test_size=0.2, random_state=42)\n",
        "\n",
        "# Testing set\n",
        "print(\"Testing set x: \", x_test)\n",
        "print(\"Testing set y: \", y_test)"
      ],
      "metadata": {
        "colab": {
          "base_uri": "https://localhost:8080/"
        },
        "id": "91rWkyuKgZkX",
        "outputId": "2dd6266e-0d18-4937-cafa-5dc2378ac1db"
      },
      "execution_count": null,
      "outputs": [
        {
          "output_type": "stream",
          "name": "stdout",
          "text": [
            "Testing set x:  [[ 2  3]\n",
            " [10 11]]\n",
            "Testing set y:  [1, 5]\n"
          ]
        }
      ]
    },
    {
      "cell_type": "markdown",
      "source": [
        "Validation Set\n",
        "1. The validation set is used to fine-tune the hyperparameters of the model and\n",
        "2. It is considered a part of the training of the model.\n",
        "3. The model only sees this data for evaluation but\n",
        "4. The model does not learn from this data, providing an objective unbiased evaluation of the model."
      ],
      "metadata": {
        "id": "iQLPsgY7g1Co"
      }
    },
    {
      "cell_type": "code",
      "source": [
        "# Importing numpy & scikit-learn\n",
        "import numpy as np\n",
        "from sklearn.model_selection import train_test_split\n",
        "\n",
        "# Making a dummy array to represent x,y for example\n",
        "# Making a array for x ranging from 0-23 then reshaping it\n",
        "# to form a matrix of shape 8x3\n",
        "x = np.arange(24).reshape((8,3))\n",
        "\n",
        "# y is just a list of 0-7 number representing\n",
        "# target variable\n",
        "y = range(8)\n",
        "\n",
        "# Splitting dataset in 80-20 fashion .i.e.\n",
        "# Training set is 80% of total data\n",
        "# Combined set of testing & validation is\n",
        "# 20% of total data\n",
        "x_train, x_Combine, y_train, y_Combine = train_test_split(x,y, train_size=0.8, random_state=42)\n",
        "\n",
        "# Splitting combined dataset in 50-50 fashion .i.e.\n",
        "# Testing set is 50% of combined dataset\n",
        "# Validation set is 50% of combined dataset\n",
        "x_val, x_test, y_val, y_test = train_test_split(x_Combine, y_Combine, test_size=0.5, random_state=42)\n",
        "\n",
        "# Training set\n",
        "print(\"Training set x: \",x_train)\n",
        "print(\"Training set y: \",y_train)\n",
        "print(\"  \")\n",
        "\n",
        "# Testing set\n",
        "print(\"Testing set x: \",x_test)\n",
        "print(\"Testing set y: \",y_test)\n",
        "print(\"  \")\n",
        "\n",
        "# Validation set\n",
        "print(\"Validation set x: \",x_val)\n",
        "print(\"Validation set y: \",y_val)"
      ],
      "metadata": {
        "colab": {
          "base_uri": "https://localhost:8080/"
        },
        "id": "LosVjgHBg4-G",
        "outputId": "1c5cfdb8-a560-40c6-e21b-a3b6d818071a"
      },
      "execution_count": null,
      "outputs": [
        {
          "output_type": "stream",
          "name": "stdout",
          "text": [
            "Training set x:  [[ 0  1  2]\n",
            " [21 22 23]\n",
            " [ 6  7  8]\n",
            " [12 13 14]\n",
            " [ 9 10 11]\n",
            " [18 19 20]]\n",
            "Training set y:  [0, 7, 2, 4, 3, 6]\n",
            "  \n",
            "Testing set x:  [[15 16 17]]\n",
            "Testing set y:  [5]\n",
            "  \n",
            "Validation set x:  [[3 4 5]]\n",
            "Validation set y:  [1]\n"
          ]
        }
      ]
    }
  ]
}